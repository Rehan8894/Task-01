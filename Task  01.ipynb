{
  "nbformat": 4,
  "nbformat_minor": 0,
  "metadata": {
    "colab": {
      "provenance": [],
      "authorship_tag": "ABX9TyPQAd81WBeMtLtkpZ2J7MG3",
      "include_colab_link": true
    },
    "kernelspec": {
      "name": "python3",
      "display_name": "Python 3"
    },
    "language_info": {
      "name": "python"
    }
  },
  "cells": [
    {
      "cell_type": "markdown",
      "metadata": {
        "id": "view-in-github",
        "colab_type": "text"
      },
      "source": [
        "<a href=\"https://colab.research.google.com/github/Rehan8894/Task-01/blob/main/Task%20%2001.ipynb\" target=\"_parent\"><img src=\"https://colab.research.google.com/assets/colab-badge.svg\" alt=\"Open In Colab\"/></a>"
      ]
    },
    {
      "cell_type": "code",
      "source": [
        "# Build a Command-Line Contact Book Application where user details are stored in a text file.\n",
        "# Implement features to add, view, and search contacts\n",
        "\n",
        "import os\n",
        "\n",
        "def add_contact(filename):\n",
        "    name = input(\"Enter contact name: \")\n",
        "    phone = input(\"Enter phone number: \")\n",
        "    email = input(\"Enter email address: \")\n",
        "\n",
        "    with open(filename, \"a\") as file:\n",
        "        file.write(f\"{name},{phone},{email}\\n\")\n",
        "    print(\"Contact added successfully!\")\n",
        "\n",
        "\n",
        "def view_contacts(filename):\n",
        "    if not os.path.exists(filename):\n",
        "        print(\"Contact file not found.\")\n",
        "        return\n",
        "\n",
        "    with open(filename, \"r\") as file:\n",
        "        contacts = file.readlines()\n",
        "        if not contacts:\n",
        "            print(\"No contacts found.\")\n",
        "            return\n",
        "        for contact in contacts:\n",
        "            name, phone, email = contact.strip().split(\",\")\n",
        "            print(f\"Name: {name}, Phone: {phone}, Email: {email}\")\n",
        "\n",
        "\n",
        "def search_contact(filename):\n",
        "    if not os.path.exists(filename):\n",
        "        print(\"Contact file not found.\")\n",
        "        return\n",
        "\n",
        "    search_term = input(\"Enter search term (name, phone or email): \")\n",
        "    with open(filename, \"r\") as file:\n",
        "        contacts = file.readlines()\n",
        "        found = False\n",
        "        for contact in contacts:\n",
        "            name, phone, email = contact.strip().split(\",\")\n",
        "            if search_term.lower() in name.lower() or \\\n",
        "               search_term.lower() in phone.lower() or \\\n",
        "               search_term.lower() in email.lower():\n",
        "                print(f\"Name: {name}, Phone: {phone}, Email: {email}\")\n",
        "                found = True\n",
        "        if not found:\n",
        "            print(\"No matching contacts found.\")\n",
        "\n",
        "\n",
        "def main():\n",
        "    filename = \"contacts.txt\"\n",
        "    while True:\n",
        "        print(\"\\nContact Book Menu:\")\n",
        "        print(\"1. Add Contact\")\n",
        "        print(\"2. View Contacts\")\n",
        "        print(\"3. Search Contact\")\n",
        "        print(\"4. Exit\")\n",
        "\n",
        "        choice = input(\"Enter your choice: \")\n",
        "\n",
        "        if choice == \"1\":\n",
        "            add_contact(filename)\n",
        "        elif choice == \"2\":\n",
        "            view_contacts(filename)\n",
        "        elif choice == \"3\":\n",
        "            search_contact(filename)\n",
        "        elif choice == \"4\":\n",
        "            print(\"Exiting...\")\n",
        "            break\n",
        "        else:\n",
        "            print(\"Invalid choice. Please try again.\")\n",
        "\n",
        "\n",
        "if __name__ == \"__main__\":\n",
        "    main()\n"
      ],
      "metadata": {
        "id": "BhtbIAPN1WUL"
      },
      "execution_count": null,
      "outputs": []
    }
  ]
}